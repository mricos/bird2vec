{
  "nbformat": 4,
  "nbformat_minor": 0,
  "metadata": {
    "colab": {
      "name": "bird2vec_generate.ipynb",
      "version": "0.3.2",
      "provenance": [],
      "include_colab_link": true
    },
    "kernelspec": {
      "name": "python3",
      "display_name": "Python 3"
    }
  },
  "cells": [
    {
      "cell_type": "markdown",
      "metadata": {
        "id": "view-in-github",
        "colab_type": "text"
      },
      "source": [
        "<a href=\"https://colab.research.google.com/github/mricos/bird2vec/blob/master/bird2vec_generate.ipynb\" target=\"_parent\"><img src=\"https://colab.research.google.com/assets/colab-badge.svg\" alt=\"Open In Colab\"/></a>"
      ]
    },
    {
      "metadata": {
        "id": "vg0ClfzBIHyn",
        "colab_type": "code",
        "colab": {}
      },
      "cell_type": "code",
      "source": [
        "!pip install tensorflow-gpu==1.12.0"
      ],
      "execution_count": 0,
      "outputs": []
    },
    {
      "metadata": {
        "id": "3ultY01jISdQ",
        "colab_type": "code",
        "colab": {}
      },
      "cell_type": "code",
      "source": [
        "!wget https://developer.nvidia.com/compute/cuda/9.0/Prod/local_installers/cuda-repo-ubuntu1604-9-0-local_9.0.176-1_amd64-deb\n",
        "!sudo dpkg -i /content/cuda-repo-ubuntu1604-9-0-local_9.0.176-1_amd64-deb\n",
        "!sudo apt-key add /var/cuda-repo-9-0-local/7fa2af80.pub\n",
        "print('add key: ok')\n",
        "!sudo apt-get update\n",
        "!sudo apt-get install cuda-libraries-9-0"
      ],
      "execution_count": 0,
      "outputs": []
    },
    {
      "metadata": {
        "id": "m9WEr-UEfaNZ",
        "colab_type": "code",
        "colab": {}
      },
      "cell_type": "code",
      "source": [
        "from google.colab import drive\n",
        "drive.mount('/content/gdrive')"
      ],
      "execution_count": 0,
      "outputs": []
    },
    {
      "metadata": {
        "id": "AbicVEypfUPH",
        "colab_type": "code",
        "colab": {}
      },
      "cell_type": "code",
      "source": [
        "# Load the model\n",
        "import tensorflow as tf"
      ],
      "execution_count": 0,
      "outputs": []
    },
    {
      "metadata": {
        "id": "YiftvNxZKYM4",
        "colab_type": "code",
        "colab": {}
      },
      "cell_type": "code",
      "source": [
        "!cat /content/gdrive/My\\ Drive/wgtrain-stream-kauai-6-2sec/checkpoint"
      ],
      "execution_count": 0,
      "outputs": []
    },
    {
      "metadata": {
        "id": "uzB8u1RcKWgN",
        "colab_type": "code",
        "colab": {}
      },
      "cell_type": "code",
      "source": [
        "path=\"/content/gdrive/My Drive/wgtrain-stream-kauai-6-2sec/\"\n",
        "tf.reset_default_graph()\n",
        "sess = tf.InteractiveSession()\n",
        "saver = tf.train.import_meta_graph(path+'infer/infer.meta')\n",
        "graph = tf.get_default_graph()\n",
        "saver.restore(sess, path+'model.ckpt-1265')"
      ],
      "execution_count": 0,
      "outputs": []
    },
    {
      "metadata": {
        "id": "-VfhcPj9kqUd",
        "colab_type": "code",
        "colab": {}
      },
      "cell_type": "code",
      "source": [
        "# Generate and display audio\n",
        "\n",
        "# CHANGE THESE to change number of examples generated/displayed\n",
        "ngenerate = 64\n",
        "ndisplay = 4\n",
        "\n",
        "import numpy as np\n",
        "import PIL.Image\n",
        "from IPython.display import display, Audio\n",
        "import time as time\n",
        "\n",
        "# Sample latent vectors\n",
        "_z = (np.random.rand(ngenerate, 100) * 2.) - 1."
      ],
      "execution_count": 0,
      "outputs": []
    },
    {
      "metadata": {
        "id": "qVcJwAIBkvHE",
        "colab_type": "code",
        "colab": {}
      },
      "cell_type": "code",
      "source": [
        "# Generate\n",
        "z = graph.get_tensor_by_name('z:0')\n",
        "G_z = graph.get_tensor_by_name('G_z:0')[:, :, 0]\n",
        "G_z_spec = graph.get_tensor_by_name('G_z:0')"
      ],
      "execution_count": 0,
      "outputs": []
    },
    {
      "metadata": {
        "id": "uX3caAUSk90n",
        "colab_type": "code",
        "colab": {}
      },
      "cell_type": "code",
      "source": [
        "start = time.time()\n",
        "_G_z, _G_z_spec = sess.run([G_z, G_z_spec], {z: _z})\n",
        "print('Finished! (Took {} seconds)'.format(time.time() - start))"
      ],
      "execution_count": 0,
      "outputs": []
    },
    {
      "metadata": {
        "id": "5IIYrzXhlTst",
        "colab_type": "code",
        "colab": {}
      },
      "cell_type": "code",
      "source": [
        "print(\"z: Type: {} shape: {}\".format(type(z),z.shape))\n",
        "print(\"G_z: Type: {} shape: {}\".format(type(G_z),G_z.shape))\n",
        "print(\"G_z_spec: Type: {} shape: {}\".format(type(G_z_spec),G_z_spec.shape))\n",
        "print(\"_z: Type: {} shape: {}\".format(type(z),_z.shape))\n",
        "print(\"_G_z: Type: {} shape: {}\".format(type(G_z),_G_z.shape))\n",
        "print(\"_G_z_spec: Type: {} shape: {}\".format(type(_G_z_spec),_G_z_spec.shape))\n",
        "print(\"All 100 elements of first latent vector:\\n{}\".format(_z[0,:]))\n",
        "print(\"All 100 elements of second latent vector:\\n{}\".format(_z[1,0:len(_z[0])]))"
      ],
      "execution_count": 0,
      "outputs": []
    },
    {
      "metadata": {
        "id": "0oDPOOt-lXAF",
        "colab_type": "code",
        "colab": {}
      },
      "cell_type": "code",
      "source": [
        "for i in range(2):\n",
        "  print('-' * 80)\n",
        "  print('Example {}'.format(i))\n",
        "  display(Audio(_G_z[i+20], rate=16000))"
      ],
      "execution_count": 0,
      "outputs": []
    },
    {
      "metadata": {
        "id": "TpopTlWylgl1",
        "colab_type": "code",
        "colab": {}
      },
      "cell_type": "code",
      "source": [
        "import librosa\n",
        "!mkdir -p \"/content/gdrive/My Drive/tubes-of-dust/kauai-2sec/1265/\"\n",
        "\n",
        "path = \"/content/gdrive/My Drive/tubes-of-dust/kauai-2sec/1265/\"\n",
        "for i in range(0,64):\n",
        "    print(\"Writing file number {:02d}\".format(i))\n",
        "    librosa.output.write_wav(path+\"{:02d}.wav\".format(i), _G_z[i], 16000) \n"
      ],
      "execution_count": 0,
      "outputs": []
    },
    {
      "metadata": {
        "id": "yOn5lrw1MnKV",
        "colab_type": "code",
        "colab": {}
      },
      "cell_type": "code",
      "source": [
        "!zip  \"/content/gdrive/My Drive/tubes-of-dust-kauai-2sec-1265.zip\" \\\n",
        "/content/gdrive/My\\ Drive/tubes-of-dust/kauai-2sec/1265/*.wav"
      ],
      "execution_count": 0,
      "outputs": []
    },
    {
      "metadata": {
        "id": "YJC7z-hXPVHD",
        "colab_type": "code",
        "colab": {}
      },
      "cell_type": "code",
      "source": [
        "# Interpolate in latent space\n",
        "import PIL\n",
        "# CHANGE THESE to example IDs from the above cell\n",
        "interp_a = 0\n",
        "interp_b = 1\n",
        "\n",
        "# CHANGE THIS to change number of intermediates\n",
        "interp_n = 3\n",
        "\n",
        "# Interpolate latent codes\n",
        "_za, _zb = _z[interp_a], _z[interp_b]\n",
        "_z_interp = []\n",
        "for i in range(interp_n + 2):\n",
        "  a = i / float(interp_n + 1)\n",
        "  _z_interp.append((1-a) * _za + a * _zb)\n",
        "\n",
        "# Concatenate for easier visualization\n",
        "flat_pad = graph.get_tensor_by_name('flat_pad:0')\n",
        "G_z_flat = graph.get_tensor_by_name('G_z_flat:0')[:, 0]\n",
        "G_z_spec_padded = tf.pad(G_z_spec, [[0, 0], [0, 0], [0, 128]])\n",
        "G_z_spec_padded = tf.transpose(G_z_spec_padded, [0, 2, 1])\n",
        "G_z_spec_flat = tf.reshape(G_z_spec_padded, [-1, 256])\n",
        "G_z_spec_flat = tf.transpose(G_z_spec_flat, [1, 0])[:, :-128]\n",
        "\n",
        "# Generate\n",
        "_G_z_flat, _G_z_spec = sess.run([G_z_flat, G_z_spec_flat], \n",
        "                                {z: _z_interp, flat_pad: 8192})\n",
        "\n",
        "\n",
        "display(Audio(_G_z_flat, rate=16000))"
      ],
      "execution_count": 0,
      "outputs": []
    }
  ]
}