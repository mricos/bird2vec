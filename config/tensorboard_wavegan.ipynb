{
  "nbformat": 4,
  "nbformat_minor": 0,
  "metadata": {
    "colab": {
      "name": "tensorboard-wavegan.ipynb",
      "version": "0.3.2",
      "provenance": [],
      "collapsed_sections": [],
      "toc_visible": true,
      "include_colab_link": true
    },
    "kernelspec": {
      "name": "python3",
      "display_name": "Python 3"
    },
    "accelerator": "GPU"
  },
  "cells": [
    {
      "cell_type": "markdown",
      "metadata": {
        "id": "view-in-github",
        "colab_type": "text"
      },
      "source": [
        "<a href=\"https://colab.research.google.com/github/mricos/bird2vec/blob/master/config/tensorboard_wavegan.ipynb\" target=\"_parent\"><img src=\"https://colab.research.google.com/assets/colab-badge.svg\" alt=\"Open In Colab\"/></a>"
      ]
    },
    {
      "metadata": {
        "id": "lTrLiMddY0gD",
        "colab_type": "text"
      },
      "cell_type": "markdown",
      "source": [
        "### Monitoring a TensorFlow training session with Tensorboard in Colab"
      ]
    },
    {
      "metadata": {
        "id": "B7FTH-hRkWhG",
        "colab_type": "text"
      },
      "cell_type": "markdown",
      "source": [
        "#### Note this notebook assumes one has initiating a training session in the the previous notebook. This code will access any tensorboard log file, however, the paths are set up specifically to point towards directories created in[ this](https://github.com/mricos/bird2vec/blob/master/config/Wavegan_tf1_12p3_6.ipynb) notebook"
      ]
    },
    {
      "metadata": {
        "id": "qTtILiXHY9cP",
        "colab_type": "text"
      },
      "cell_type": "markdown",
      "source": [
        "Mount the google drive. (if your events log are being logged to you google drive. Otherwise correct the path)"
      ]
    },
    {
      "metadata": {
        "id": "CqjvMV1S7IoN",
        "colab_type": "code",
        "outputId": "5a3299f6-afb9-4834-db51-73ef6316d47d",
        "colab": {
          "base_uri": "https://localhost:8080/",
          "height": 54
        }
      },
      "cell_type": "code",
      "source": [
        "from google.colab import drive\n",
        "drive.mount('/content/gdrive')"
      ],
      "execution_count": 1,
      "outputs": [
        {
          "output_type": "stream",
          "text": [
            "Drive already mounted at /content/gdrive; to attempt to forcibly remount, call drive.mount(\"/content/gdrive\", force_remount=True).\n"
          ],
          "name": "stdout"
        }
      ]
    },
    {
      "metadata": {
        "id": "zn962UrdZXw4",
        "colab_type": "text"
      },
      "cell_type": "markdown",
      "source": [
        "This is the recommended command, but it does not always work. You may run it then see that Tensorboard is not actually running, in that case move to the next cell."
      ]
    },
    {
      "metadata": {
        "id": "6ck6MzjWjV1Q",
        "colab_type": "code",
        "colab": {}
      },
      "cell_type": "code",
      "source": [
        "!pkill tensorboard\n",
        "get_ipython().system_raw(\n",
        "'tensorboard \\\n",
        "--logdir /content/gdrive/My\\ Drive/wgtrain-stream-kauai-6-2sec \\\n",
        "--host 0.0.0.0 \\\n",
        "--port 6006 &'\n",
        ")"
      ],
      "execution_count": 0,
      "outputs": []
    },
    {
      "metadata": {
        "id": "5Bgq7DQDr6Zk",
        "colab_type": "code",
        "outputId": "4ced7636-7921-4b98-f604-26baa1d4f0ad",
        "colab": {
          "base_uri": "https://localhost:8080/",
          "height": 308
        }
      },
      "cell_type": "code",
      "source": [
        "!ps"
      ],
      "execution_count": 11,
      "outputs": [
        {
          "output_type": "stream",
          "text": [
            "    PID TTY          TIME CMD\n",
            "      1 ?        00:00:00 run.sh\n",
            "      6 ?        00:00:01 node\n",
            "     21 ?        00:00:03 node\n",
            "     31 ?        00:00:06 jupyter-noteboo\n",
            "    118 ?        00:00:00 tail\n",
            "    126 ?        00:00:14 python3\n",
            "    162 ?        00:00:00 drive\n",
            "    299 ?        00:00:22 drive\n",
            "    311 ?        00:00:01 fusermount <defunct>\n",
            "    348 ?        00:00:00 tail\n",
            "    349 ?        00:00:00 grep\n",
            "   2793 ?        00:15:07 python3\n",
            "   2810 ?        00:00:00 python3\n",
            "   2911 ?        00:00:02 python3\n",
            "   3305 ?        00:00:02 tensorboard\n",
            "   3322 ?        00:00:00 ps\n"
          ],
          "name": "stdout"
        }
      ]
    },
    {
      "metadata": {
        "id": "lo3S8l-Abpd0",
        "colab_type": "text"
      },
      "cell_type": "markdown",
      "source": [
        "This cell will download and unzip ngrok"
      ]
    },
    {
      "metadata": {
        "id": "3NCNPOzx7b0p",
        "colab_type": "code",
        "colab": {}
      },
      "cell_type": "code",
      "source": [
        "! wget https://bin.equinox.io/c/4VmDzA7iaHb/ngrok-stable-linux-amd64.zip > /dev/null 2>&1\n",
        "! unzip ngrok-stable-linux-amd64.zip > /dev/null 2>&1"
      ],
      "execution_count": 0,
      "outputs": []
    },
    {
      "metadata": {
        "id": "QZ8Z0mtCbs6D",
        "colab_type": "text"
      },
      "cell_type": "markdown",
      "source": [
        "Connect to port 6006"
      ]
    },
    {
      "metadata": {
        "id": "LK-s_hO37vqd",
        "colab_type": "code",
        "colab": {}
      },
      "cell_type": "code",
      "source": [
        "get_ipython().system_raw('./ngrok http 6006 &')"
      ],
      "execution_count": 0,
      "outputs": []
    },
    {
      "metadata": {
        "id": "a0v1l1Aj7ymG",
        "colab_type": "code",
        "outputId": "0181ce28-03ff-4218-df83-dc47550faea0",
        "colab": {
          "base_uri": "https://localhost:8080/",
          "height": 34
        }
      },
      "cell_type": "code",
      "source": [
        "! curl -s http://localhost:4040/api/tunnels | python3 -c \\\n",
        "    \"import sys, json; print(json.load(sys.stdin)['tunnels'][0]['public_url'])\""
      ],
      "execution_count": 6,
      "outputs": [
        {
          "output_type": "stream",
          "text": [
            "https://3d45a79a.ngrok.io\n"
          ],
          "name": "stdout"
        }
      ]
    },
    {
      "metadata": {
        "id": "3LtQRQQU50x8",
        "colab_type": "text"
      },
      "cell_type": "markdown",
      "source": [
        "# Alternative tunneling. admin commands"
      ]
    },
    {
      "metadata": {
        "id": "n9O_BnpyjsvG",
        "colab_type": "text"
      },
      "cell_type": "markdown",
      "source": [
        "###Install tunnelme"
      ]
    },
    {
      "metadata": {
        "id": "ZTag8_jX71rn",
        "colab_type": "code",
        "outputId": "107fa3ca-302b-41ff-a9c3-78ebd0096981",
        "colab": {
          "base_uri": "https://localhost:8080/",
          "height": 72
        }
      },
      "cell_type": "code",
      "source": [
        "# Install\n",
        "! npm install -g localtunnel"
      ],
      "execution_count": 0,
      "outputs": [
        {
          "output_type": "stream",
          "text": [
            "\u001b[K\u001b[?25h/tools/node/bin/lt -> /tools/node/lib/node_modules/localtunnel/bin/client\n",
            "\u001b[K\u001b[?25h+ localtunnel@1.9.1\n",
            "added 55 packages from 34 contributors in 3.616s\n"
          ],
          "name": "stdout"
        }
      ]
    },
    {
      "metadata": {
        "id": "SCHshhzRjyqy",
        "colab_type": "text"
      },
      "cell_type": "markdown",
      "source": [
        "Write the public url to a text file"
      ]
    },
    {
      "metadata": {
        "id": "0ikbOmnk77O1",
        "colab_type": "code",
        "colab": {}
      },
      "cell_type": "code",
      "source": [
        "# Tunnel port 6006 (TensorBoard assumed running)\n",
        "get_ipython().system_raw('lt --port 6006 >> url.txt 2>&1 &')"
      ],
      "execution_count": 0,
      "outputs": []
    },
    {
      "metadata": {
        "id": "7A0idclmj3hI",
        "colab_type": "text"
      },
      "cell_type": "markdown",
      "source": [
        "View the url.txt and follow the link to tensorboard"
      ]
    },
    {
      "metadata": {
        "id": "e582-9jt78GV",
        "colab_type": "code",
        "outputId": "c040506e-81b6-4212-f509-ba648ed88fc3",
        "colab": {
          "base_uri": "https://localhost:8080/",
          "height": 35
        }
      },
      "cell_type": "code",
      "source": [
        "# Get url\n",
        "! cat url.txt"
      ],
      "execution_count": 0,
      "outputs": [
        {
          "output_type": "stream",
          "text": [
            "your url is: https://dull-snake-35.localtunnel.me\n"
          ],
          "name": "stdout"
        }
      ]
    },
    {
      "metadata": {
        "id": "eLTLHbvQiF_H",
        "colab_type": "text"
      },
      "cell_type": "markdown",
      "source": [
        "DO NOT USE THIS CELL UNLESS TERMINATING A PROCESS"
      ]
    },
    {
      "metadata": {
        "id": "Tu76PjuDr-cF",
        "colab_type": "code",
        "colab": {}
      },
      "cell_type": "code",
      "source": [
        "#!kill 2119 #You can use this command to kill any process running"
      ],
      "execution_count": 0,
      "outputs": []
    },
    {
      "metadata": {
        "id": "w13nyG5EbNpD",
        "colab_type": "text"
      },
      "cell_type": "markdown",
      "source": [
        "This next cell is check to see that TB is infact running on port 6006.\n",
        "If you run the next cell and receive:\n",
        "    - curl: (7) Failed to connect to localhost port 6006: Connection refused\n",
        "    \n",
        "  Run The cell above to force tensorboard to start, then come back and run this cell. Expected output should be a **LONG html file**."
      ]
    },
    {
      "metadata": {
        "id": "FdhJdQub7YW7",
        "colab_type": "code",
        "colab": {}
      },
      "cell_type": "code",
      "source": [
        "! curl http://localhost:6006"
      ],
      "execution_count": 0,
      "outputs": []
    }
  ]
}