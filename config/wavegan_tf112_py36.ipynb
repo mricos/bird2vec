{
  "nbformat": 4,
  "nbformat_minor": 0,
  "metadata": {
    "colab": {
      "name": "wavegan_tf112_py36.ipynb",
      "version": "0.3.2",
      "provenance": [],
      "collapsed_sections": [],
      "include_colab_link": true
    },
    "kernelspec": {
      "name": "python3",
      "display_name": "Python 3"
    },
    "accelerator": "GPU"
  },
  "cells": [
    {
      "cell_type": "markdown",
      "metadata": {
        "id": "view-in-github",
        "colab_type": "text"
      },
      "source": [
        "<a href=\"https://colab.research.google.com/github/mricos/bird2vec/blob/master/config/wavegan_tf112_py36.ipynb\" target=\"_parent\"><img src=\"https://colab.research.google.com/assets/colab-badge.svg\" alt=\"Open In Colab\"/></a>"
      ]
    },
    {
      "metadata": {
        "id": "P9KgLCisZDiK",
        "colab_type": "text"
      },
      "cell_type": "markdown",
      "source": [
        "## Training Wavegan with tensorflow 1.12.0 and python 3.6.7"
      ]
    },
    {
      "metadata": {
        "id": "t9QY5ZHbku0_",
        "colab_type": "text"
      },
      "cell_type": "markdown",
      "source": [
        "Official implementation of WaveGAN, a machine learning algorithm which learns to generate raw audio waveforms.\n",
        "\n",
        "https://github.com/chrisdonahue/wavegan/"
      ]
    },
    {
      "metadata": {
        "id": "Fpk572Oxl1Lj",
        "colab_type": "text"
      },
      "cell_type": "markdown",
      "source": [
        "@inproceedings {donahue2019wavegan,\n",
        "  title={Adversarial Audio Synthesis},\n",
        "  author={Donahue, Chris and McAuley, Julian and Puckette, Miller},\n",
        "  booktitle={ICLR},\n",
        "  year={2019}\n",
        "}"
      ]
    },
    {
      "metadata": {
        "id": "mPFPihWzi6eM",
        "colab_type": "text"
      },
      "cell_type": "markdown",
      "source": [
        "### Mount Google Drive\n",
        "  In this notebook we mount our google drive so that we can store the output of the model while it trains."
      ]
    },
    {
      "metadata": {
        "id": "2rbERPMvi4WG",
        "colab_type": "code",
        "outputId": "edef11e6-6847-4ec7-eb06-23b5e7af08e3",
        "colab": {
          "base_uri": "https://localhost:8080/",
          "height": 121
        }
      },
      "cell_type": "code",
      "source": [
        "from google.colab import drive\n",
        "drive.mount('/content/gdrive')"
      ],
      "execution_count": 0,
      "outputs": [
        {
          "output_type": "stream",
          "text": [
            "Go to this URL in a browser: https://accounts.google.com/o/oauth2/auth?client_id=947318989803-6bn6qk8qdgf4n4g3pfee6491hc0brc4i.apps.googleusercontent.com&redirect_uri=urn%3Aietf%3Awg%3Aoauth%3A2.0%3Aoob&scope=email%20https%3A%2F%2Fwww.googleapis.com%2Fauth%2Fdocs.test%20https%3A%2F%2Fwww.googleapis.com%2Fauth%2Fdrive%20https%3A%2F%2Fwww.googleapis.com%2Fauth%2Fdrive.photos.readonly%20https%3A%2F%2Fwww.googleapis.com%2Fauth%2Fpeopleapi.readonly&response_type=code\n",
            "\n",
            "Enter your authorization code:\n",
            "··········\n",
            "Mounted at /content/gdrive\n"
          ],
          "name": "stdout"
        }
      ]
    },
    {
      "metadata": {
        "id": "KYT4xbRmZVdD",
        "colab_type": "text"
      },
      "cell_type": "markdown",
      "source": [
        "### Install recommended dependencies\n",
        "    pip install tensorflow-gpu==1.12.0\n",
        "    pip install scipy==1.0.0\n",
        "    pip install matplotlib==3.0.2\n",
        "    pip install librosa==0.6.2\n",
        "    \n",
        "    It's worth it to note that this code maybe compatible different versions of TensorFlow, however we follow the recommendations of the author."
      ]
    },
    {
      "metadata": {
        "id": "cfXki4mQZSjx",
        "colab_type": "code",
        "outputId": "fb73fced-eca2-4984-a374-4873da605487",
        "colab": {
          "base_uri": "https://localhost:8080/",
          "height": 1687
        }
      },
      "cell_type": "code",
      "source": [
        "!pip install tensorflow-gpu==1.12.0\n",
        "!pip install scipy==1.0.0\n",
        "!pip install matplotlib==3.0.2\n",
        "!pip install librosa==0.6.2"
      ],
      "execution_count": 0,
      "outputs": [
        {
          "output_type": "stream",
          "text": [
            "Collecting tensorflow-gpu==1.12.0\n",
            "\u001b[?25l  Downloading https://files.pythonhosted.org/packages/55/7e/bec4d62e9dc95e828922c6cec38acd9461af8abe749f7c9def25ec4b2fdb/tensorflow_gpu-1.12.0-cp36-cp36m-manylinux1_x86_64.whl (281.7MB)\n",
            "\u001b[K    100% |████████████████████████████████| 281.7MB 78kB/s \n",
            "\u001b[?25hRequirement already satisfied: keras-preprocessing>=1.0.5 in /usr/local/lib/python3.6/dist-packages (from tensorflow-gpu==1.12.0) (1.0.9)\n",
            "Requirement already satisfied: protobuf>=3.6.1 in /usr/local/lib/python3.6/dist-packages (from tensorflow-gpu==1.12.0) (3.7.1)\n",
            "Requirement already satisfied: astor>=0.6.0 in /usr/local/lib/python3.6/dist-packages (from tensorflow-gpu==1.12.0) (0.7.1)\n",
            "Requirement already satisfied: gast>=0.2.0 in /usr/local/lib/python3.6/dist-packages (from tensorflow-gpu==1.12.0) (0.2.2)\n",
            "Collecting tensorboard<1.13.0,>=1.12.0 (from tensorflow-gpu==1.12.0)\n",
            "\u001b[?25l  Downloading https://files.pythonhosted.org/packages/07/53/8d32ce9471c18f8d99028b7cef2e5b39ea8765bd7ef250ca05b490880971/tensorboard-1.12.2-py3-none-any.whl (3.0MB)\n",
            "\u001b[K    100% |████████████████████████████████| 3.1MB 8.5MB/s \n",
            "\u001b[?25hRequirement already satisfied: termcolor>=1.1.0 in /usr/local/lib/python3.6/dist-packages (from tensorflow-gpu==1.12.0) (1.1.0)\n",
            "Requirement already satisfied: keras-applications>=1.0.6 in /usr/local/lib/python3.6/dist-packages (from tensorflow-gpu==1.12.0) (1.0.7)\n",
            "Requirement already satisfied: absl-py>=0.1.6 in /usr/local/lib/python3.6/dist-packages (from tensorflow-gpu==1.12.0) (0.7.1)\n",
            "Requirement already satisfied: grpcio>=1.8.6 in /usr/local/lib/python3.6/dist-packages (from tensorflow-gpu==1.12.0) (1.15.0)\n",
            "Requirement already satisfied: wheel>=0.26 in /usr/local/lib/python3.6/dist-packages (from tensorflow-gpu==1.12.0) (0.33.1)\n",
            "Requirement already satisfied: six>=1.10.0 in /usr/local/lib/python3.6/dist-packages (from tensorflow-gpu==1.12.0) (1.11.0)\n",
            "Requirement already satisfied: numpy>=1.13.3 in /usr/local/lib/python3.6/dist-packages (from tensorflow-gpu==1.12.0) (1.14.6)\n",
            "Requirement already satisfied: setuptools in /usr/local/lib/python3.6/dist-packages (from protobuf>=3.6.1->tensorflow-gpu==1.12.0) (40.8.0)\n",
            "Requirement already satisfied: markdown>=2.6.8 in /usr/local/lib/python3.6/dist-packages (from tensorboard<1.13.0,>=1.12.0->tensorflow-gpu==1.12.0) (3.1)\n",
            "Requirement already satisfied: werkzeug>=0.11.10 in /usr/local/lib/python3.6/dist-packages (from tensorboard<1.13.0,>=1.12.0->tensorflow-gpu==1.12.0) (0.15.1)\n",
            "Requirement already satisfied: h5py in /usr/local/lib/python3.6/dist-packages (from keras-applications>=1.0.6->tensorflow-gpu==1.12.0) (2.8.0)\n",
            "\u001b[31mtensorflow 1.13.1 has requirement tensorboard<1.14.0,>=1.13.0, but you'll have tensorboard 1.12.2 which is incompatible.\u001b[0m\n",
            "Installing collected packages: tensorboard, tensorflow-gpu\n",
            "  Found existing installation: tensorboard 1.13.1\n",
            "    Uninstalling tensorboard-1.13.1:\n",
            "      Successfully uninstalled tensorboard-1.13.1\n",
            "Successfully installed tensorboard-1.12.2 tensorflow-gpu-1.12.0\n",
            "Collecting scipy==1.0.0\n",
            "\u001b[?25l  Downloading https://files.pythonhosted.org/packages/d8/5e/caa01ba7be11600b6a9d39265440d7b3be3d69206da887c42bef049521f2/scipy-1.0.0-cp36-cp36m-manylinux1_x86_64.whl (50.0MB)\n",
            "\u001b[K    100% |████████████████████████████████| 50.0MB 928kB/s \n",
            "\u001b[?25hRequirement already satisfied: numpy>=1.8.2 in /usr/local/lib/python3.6/dist-packages (from scipy==1.0.0) (1.14.6)\n",
            "\u001b[31mimgaug 0.2.8 has requirement numpy>=1.15.0, but you'll have numpy 1.14.6 which is incompatible.\u001b[0m\n",
            "\u001b[31mfastai 1.0.50.post1 has requirement numpy>=1.15, but you'll have numpy 1.14.6 which is incompatible.\u001b[0m\n",
            "\u001b[31mcvxpy 1.0.15 has requirement scipy>=1.1.0, but you'll have scipy 1.0.0 which is incompatible.\u001b[0m\n",
            "\u001b[31malbumentations 0.1.12 has requirement imgaug<0.2.7,>=0.2.5, but you'll have imgaug 0.2.8 which is incompatible.\u001b[0m\n",
            "Installing collected packages: scipy\n",
            "  Found existing installation: scipy 1.1.0\n",
            "    Uninstalling scipy-1.1.0:\n",
            "      Successfully uninstalled scipy-1.1.0\n",
            "Successfully installed scipy-1.0.0\n"
          ],
          "name": "stdout"
        },
        {
          "output_type": "display_data",
          "data": {
            "application/vnd.colab-display-data+json": {
              "pip_warning": {
                "packages": [
                  "scipy"
                ]
              }
            }
          },
          "metadata": {
            "tags": []
          }
        },
        {
          "output_type": "stream",
          "text": [
            "Collecting matplotlib==3.0.2\n",
            "\u001b[?25l  Downloading https://files.pythonhosted.org/packages/71/07/16d781df15be30df4acfd536c479268f1208b2dfbc91e9ca5d92c9caf673/matplotlib-3.0.2-cp36-cp36m-manylinux1_x86_64.whl (12.9MB)\n",
            "\u001b[K    100% |████████████████████████████████| 12.9MB 3.3MB/s \n",
            "\u001b[?25hRequirement already satisfied: python-dateutil>=2.1 in /usr/local/lib/python3.6/dist-packages (from matplotlib==3.0.2) (2.5.3)\n",
            "Requirement already satisfied: cycler>=0.10 in /usr/local/lib/python3.6/dist-packages (from matplotlib==3.0.2) (0.10.0)\n",
            "Requirement already satisfied: numpy>=1.10.0 in /usr/local/lib/python3.6/dist-packages (from matplotlib==3.0.2) (1.14.6)\n",
            "Requirement already satisfied: pyparsing!=2.0.4,!=2.1.2,!=2.1.6,>=2.0.1 in /usr/local/lib/python3.6/dist-packages (from matplotlib==3.0.2) (2.3.1)\n",
            "Requirement already satisfied: kiwisolver>=1.0.1 in /usr/local/lib/python3.6/dist-packages (from matplotlib==3.0.2) (1.0.1)\n",
            "Requirement already satisfied: six>=1.5 in /usr/local/lib/python3.6/dist-packages (from python-dateutil>=2.1->matplotlib==3.0.2) (1.11.0)\n",
            "Requirement already satisfied: setuptools in /usr/local/lib/python3.6/dist-packages (from kiwisolver>=1.0.1->matplotlib==3.0.2) (40.8.0)\n",
            "\u001b[31mimgaug 0.2.8 has requirement numpy>=1.15.0, but you'll have numpy 1.14.6 which is incompatible.\u001b[0m\n",
            "\u001b[31mfastai 1.0.50.post1 has requirement numpy>=1.15, but you'll have numpy 1.14.6 which is incompatible.\u001b[0m\n",
            "\u001b[31malbumentations 0.1.12 has requirement imgaug<0.2.7,>=0.2.5, but you'll have imgaug 0.2.8 which is incompatible.\u001b[0m\n",
            "Installing collected packages: matplotlib\n",
            "  Found existing installation: matplotlib 3.0.3\n",
            "    Uninstalling matplotlib-3.0.3:\n",
            "      Successfully uninstalled matplotlib-3.0.3\n",
            "Successfully installed matplotlib-3.0.2\n"
          ],
          "name": "stdout"
        },
        {
          "output_type": "display_data",
          "data": {
            "application/vnd.colab-display-data+json": {
              "pip_warning": {
                "packages": [
                  "matplotlib",
                  "mpl_toolkits"
                ]
              }
            }
          },
          "metadata": {
            "tags": []
          }
        },
        {
          "output_type": "stream",
          "text": [
            "Collecting librosa==0.6.2\n",
            "\u001b[?25l  Downloading https://files.pythonhosted.org/packages/09/b4/5b411f19de48f8fc1a0ff615555aa9124952e4156e94d4803377e50cfa4c/librosa-0.6.2.tar.gz (1.6MB)\n",
            "\u001b[K    100% |████████████████████████████████| 1.6MB 17.5MB/s \n",
            "\u001b[?25hRequirement already satisfied: audioread>=2.0.0 in /usr/local/lib/python3.6/dist-packages (from librosa==0.6.2) (2.1.6)\n",
            "Requirement already satisfied: numpy>=1.8.0 in /usr/local/lib/python3.6/dist-packages (from librosa==0.6.2) (1.14.6)\n",
            "Requirement already satisfied: scipy>=0.14.0 in /usr/local/lib/python3.6/dist-packages (from librosa==0.6.2) (1.0.0)\n",
            "Requirement already satisfied: scikit-learn!=0.19.0,>=0.14.0 in /usr/local/lib/python3.6/dist-packages (from librosa==0.6.2) (0.20.3)\n",
            "Requirement already satisfied: joblib>=0.12 in /usr/local/lib/python3.6/dist-packages (from librosa==0.6.2) (0.12.5)\n",
            "Requirement already satisfied: decorator>=3.0.0 in /usr/local/lib/python3.6/dist-packages (from librosa==0.6.2) (4.4.0)\n",
            "Requirement already satisfied: six>=1.3 in /usr/local/lib/python3.6/dist-packages (from librosa==0.6.2) (1.11.0)\n",
            "Requirement already satisfied: resampy>=0.2.0 in /usr/local/lib/python3.6/dist-packages (from librosa==0.6.2) (0.2.1)\n",
            "Requirement already satisfied: numba>=0.38.0 in /usr/local/lib/python3.6/dist-packages (from librosa==0.6.2) (0.40.1)\n",
            "Requirement already satisfied: llvmlite>=0.25.0dev0 in /usr/local/lib/python3.6/dist-packages (from numba>=0.38.0->librosa==0.6.2) (0.28.0)\n",
            "Building wheels for collected packages: librosa\n",
            "  Building wheel for librosa (setup.py) ... \u001b[?25ldone\n",
            "\u001b[?25h  Stored in directory: /root/.cache/pip/wheels/18/b8/10/f0f8f6ac60668a5cd75596cf14c25bb6b3ea1ecd815f058b7e\n",
            "Successfully built librosa\n",
            "Installing collected packages: librosa\n",
            "  Found existing installation: librosa 0.6.3\n",
            "    Uninstalling librosa-0.6.3:\n",
            "      Successfully uninstalled librosa-0.6.3\n",
            "Successfully installed librosa-0.6.2\n"
          ],
          "name": "stdout"
        }
      ]
    },
    {
      "metadata": {
        "id": "hwRsJOTZaXG7",
        "colab_type": "text"
      },
      "cell_type": "markdown",
      "source": [
        "## Install cuda9.0 for compatability"
      ]
    },
    {
      "metadata": {
        "id": "PaKTUsp7mrxa",
        "colab_type": "text"
      },
      "cell_type": "markdown",
      "source": [
        "Here we download the CUDA toolkit from the Nvidia site, unpack it, add an apt-key to install the CUDA 9 libraires"
      ]
    },
    {
      "metadata": {
        "id": "H32ssGQFaQqh",
        "colab_type": "code",
        "outputId": "b6b23d82-88b7-41a7-b901-63cad975455f",
        "colab": {
          "base_uri": "https://localhost:8080/",
          "height": 2590
        }
      },
      "cell_type": "code",
      "source": [
        "!wget https://developer.nvidia.com/compute/cuda/9.0/Prod/local_installers/cuda-repo-ubuntu1604-9-0-local_9.0.176-1_amd64-deb\n",
        "!sudo dpkg -i /content/cuda-repo-ubuntu1604-9-0-local_9.0.176-1_amd64-deb\n",
        "!sudo apt-key add /var/cuda-repo-9-0-local/7fa2af80.pub\n",
        "print('add key: ok')\n",
        "!sudo apt-get update\n",
        "!sudo apt-get install cuda-libraries-9-0"
      ],
      "execution_count": 0,
      "outputs": [
        {
          "output_type": "stream",
          "text": [
            "--2019-04-02 23:16:31--  https://developer.nvidia.com/compute/cuda/9.0/Prod/local_installers/cuda-repo-ubuntu1604-9-0-local_9.0.176-1_amd64-deb\n",
            "Resolving developer.nvidia.com (developer.nvidia.com)... 192.229.182.215\n",
            "Connecting to developer.nvidia.com (developer.nvidia.com)|192.229.182.215|:443... connected.\n",
            "HTTP request sent, awaiting response... 302 Found\n",
            "Location: https://developer.download.nvidia.com/compute/cuda/9.0/secure/Prod/local_installers/cuda-repo-ubuntu1604-9-0-local_9.0.176-1_amd64.deb?tqxAFDQW8D-J-sa8oZz1PSaXAuCF5NCceTs6qZH7tDj1n-AUGeZlecXsfqoo0cGpV5AndMlm9NwsMd48v9NOp1fPlakZQXALzDfqAZUcIJUsFQbDSYQ2OorqXtcZmsNNkMLhTGmHlbIBuxdo13IJB6H-8El3ub1xH-xAWfXIDao2P-vSO-FyXF-mKQGnPgqaP4XTV95JIiY-bMDiw2h- [following]\n",
            "--2019-04-02 23:16:32--  https://developer.download.nvidia.com/compute/cuda/9.0/secure/Prod/local_installers/cuda-repo-ubuntu1604-9-0-local_9.0.176-1_amd64.deb?tqxAFDQW8D-J-sa8oZz1PSaXAuCF5NCceTs6qZH7tDj1n-AUGeZlecXsfqoo0cGpV5AndMlm9NwsMd48v9NOp1fPlakZQXALzDfqAZUcIJUsFQbDSYQ2OorqXtcZmsNNkMLhTGmHlbIBuxdo13IJB6H-8El3ub1xH-xAWfXIDao2P-vSO-FyXF-mKQGnPgqaP4XTV95JIiY-bMDiw2h-\n",
            "Resolving developer.download.nvidia.com (developer.download.nvidia.com)... 192.229.221.58, 2606:2800:233:ef6:15dd:1ece:1d50:1e1\n",
            "Connecting to developer.download.nvidia.com (developer.download.nvidia.com)|192.229.221.58|:443... connected.\n",
            "HTTP request sent, awaiting response... 200 OK\n",
            "Length: 1212738714 (1.1G) [application/x-deb]\n",
            "Saving to: ‘cuda-repo-ubuntu1604-9-0-local_9.0.176-1_amd64-deb’\n",
            "\n",
            "cuda-repo-ubuntu160 100%[===================>]   1.13G   150MB/s    in 7.5s    \n",
            "\n",
            "2019-04-02 23:16:39 (153 MB/s) - ‘cuda-repo-ubuntu1604-9-0-local_9.0.176-1_amd64-deb’ saved [1212738714/1212738714]\n",
            "\n",
            "Selecting previously unselected package cuda-repo-ubuntu1604-9-0-local.\n",
            "(Reading database ... 131294 files and directories currently installed.)\n",
            "Preparing to unpack .../cuda-repo-ubuntu1604-9-0-local_9.0.176-1_amd64-deb ...\n",
            "Unpacking cuda-repo-ubuntu1604-9-0-local (9.0.176-1) ...\n",
            "Setting up cuda-repo-ubuntu1604-9-0-local (9.0.176-1) ...\n",
            "OK\n",
            "add key: ok\n",
            "Get:1 file:/var/cuda-repo-9-0-local  InRelease\n",
            "Ign:1 file:/var/cuda-repo-9-0-local  InRelease\n",
            "Get:2 file:/var/cuda-repo-9-0-local  Release [574 B]\n",
            "Get:2 file:/var/cuda-repo-9-0-local  Release [574 B]\n",
            "Get:3 file:/var/cuda-repo-9-0-local  Release.gpg [819 B]\n",
            "Get:3 file:/var/cuda-repo-9-0-local  Release.gpg [819 B]\n",
            "Hit:4 http://archive.ubuntu.com/ubuntu bionic InRelease\n",
            "Hit:5 http://ppa.launchpad.net/graphics-drivers/ppa/ubuntu bionic InRelease\n",
            "Get:6 http://archive.ubuntu.com/ubuntu bionic-updates InRelease [88.7 kB]\n",
            "Get:7 http://ppa.launchpad.net/marutter/c2d4u3.5/ubuntu bionic InRelease [15.4 kB]\n",
            "Get:8 http://archive.ubuntu.com/ubuntu bionic-backports InRelease [74.6 kB]\n",
            "Get:9 https://cloud.r-project.org/bin/linux/ubuntu bionic-cran35/ InRelease [3,609 B]\n",
            "Get:10 file:/var/cuda-repo-9-0-local  Packages [15.4 kB]\n",
            "Get:11 http://security.ubuntu.com/ubuntu bionic-security InRelease [88.7 kB]\n",
            "Get:12 http://ppa.launchpad.net/marutter/c2d4u3.5/ubuntu bionic/main Sources [1,629 kB]\n",
            "Get:13 http://archive.ubuntu.com/ubuntu bionic-updates/main amd64 Packages [743 kB]\n",
            "Get:14 http://archive.ubuntu.com/ubuntu bionic-updates/universe amd64 Packages [959 kB]\n",
            "Get:15 http://ppa.launchpad.net/marutter/c2d4u3.5/ubuntu bionic/main amd64 Packages [782 kB]\n",
            "Ign:16 https://developer.download.nvidia.com/compute/cuda/repos/ubuntu1804/x86_64  InRelease\n",
            "Get:17 http://security.ubuntu.com/ubuntu bionic-security/main amd64 Packages [376 kB]\n",
            "Ign:18 https://developer.download.nvidia.com/compute/machine-learning/repos/ubuntu1804/x86_64  InRelease\n",
            "Hit:19 https://developer.download.nvidia.com/compute/cuda/repos/ubuntu1804/x86_64  Release\n",
            "Get:20 https://developer.download.nvidia.com/compute/machine-learning/repos/ubuntu1804/x86_64  Release [564 B]\n",
            "Get:21 https://developer.download.nvidia.com/compute/machine-learning/repos/ubuntu1804/x86_64  Release.gpg [801 B]\n",
            "Get:23 http://security.ubuntu.com/ubuntu bionic-security/universe amd64 Packages [162 kB]\n",
            "Get:24 https://developer.download.nvidia.com/compute/machine-learning/repos/ubuntu1804/x86_64  Packages [6,819 B]\n",
            "Fetched 4,930 kB in 1s (3,298 kB/s)\n",
            "Reading package lists... Done\n",
            "Reading package lists... Done\n",
            "Building dependency tree       \n",
            "Reading state information... Done\n",
            "The following package was automatically installed and is no longer required:\n",
            "  libnvidia-common-410\n",
            "Use 'sudo apt autoremove' to remove it.\n",
            "The following additional packages will be installed:\n",
            "  cuda-cublas-9-0 cuda-cudart-9-0 cuda-cufft-9-0 cuda-curand-9-0\n",
            "  cuda-cusolver-9-0 cuda-cusparse-9-0 cuda-license-9-0 cuda-npp-9-0\n",
            "  cuda-nvgraph-9-0 cuda-nvrtc-9-0\n",
            "The following NEW packages will be installed:\n",
            "  cuda-cublas-9-0 cuda-cudart-9-0 cuda-cufft-9-0 cuda-curand-9-0\n",
            "  cuda-cusolver-9-0 cuda-cusparse-9-0 cuda-libraries-9-0 cuda-license-9-0\n",
            "  cuda-npp-9-0 cuda-nvgraph-9-0 cuda-nvrtc-9-0\n",
            "0 upgraded, 11 newly installed, 0 to remove and 10 not upgraded.\n",
            "Need to get 0 B/258 MB of archives.\n",
            "After this operation, 572 MB of additional disk space will be used.\n",
            "Get:1 file:/var/cuda-repo-9-0-local  cuda-license-9-0 9.0.176-1 [22.0 kB]\n",
            "Get:2 file:/var/cuda-repo-9-0-local  cuda-cublas-9-0 9.0.176-1 [25.0 MB]\n",
            "Get:3 file:/var/cuda-repo-9-0-local  cuda-cudart-9-0 9.0.176-1 [106 kB]\n",
            "Get:4 file:/var/cuda-repo-9-0-local  cuda-cufft-9-0 9.0.176-1 [84.1 MB]\n",
            "Get:5 file:/var/cuda-repo-9-0-local  cuda-curand-9-0 9.0.176-1 [38.8 MB]\n",
            "Get:6 file:/var/cuda-repo-9-0-local  cuda-cusolver-9-0 9.0.176-1 [26.2 MB]\n",
            "Get:7 file:/var/cuda-repo-9-0-local  cuda-cusparse-9-0 9.0.176-1 [25.2 MB]\n",
            "Get:8 file:/var/cuda-repo-9-0-local  cuda-nvrtc-9-0 9.0.176-1 [6,348 kB]\n",
            "Get:9 file:/var/cuda-repo-9-0-local  cuda-nvgraph-9-0 9.0.176-1 [6,081 kB]\n",
            "Get:10 file:/var/cuda-repo-9-0-local  cuda-npp-9-0 9.0.176-1 [46.6 MB]\n",
            "Get:11 file:/var/cuda-repo-9-0-local  cuda-libraries-9-0 9.0.176-1 [2,566 B]\n",
            "debconf: unable to initialize frontend: Dialog\n",
            "debconf: (No usable dialog-like program is installed, so the dialog based frontend cannot be used. at /usr/share/perl5/Debconf/FrontEnd/Dialog.pm line 76, <> line 11.)\n",
            "debconf: falling back to frontend: Readline\n",
            "debconf: unable to initialize frontend: Readline\n",
            "debconf: (This frontend requires a controlling tty.)\n",
            "debconf: falling back to frontend: Teletype\n",
            "dpkg-preconfigure: unable to re-open stdin: \n",
            "Selecting previously unselected package cuda-license-9-0.\n",
            "(Reading database ... 131353 files and directories currently installed.)\n",
            "Preparing to unpack .../00-cuda-license-9-0_9.0.176-1_amd64.deb ...\n",
            "Unpacking cuda-license-9-0 (9.0.176-1) ...\n",
            "Selecting previously unselected package cuda-cublas-9-0.\n",
            "Preparing to unpack .../01-cuda-cublas-9-0_9.0.176-1_amd64.deb ...\n",
            "Unpacking cuda-cublas-9-0 (9.0.176-1) ...\n",
            "Selecting previously unselected package cuda-cudart-9-0.\n",
            "Preparing to unpack .../02-cuda-cudart-9-0_9.0.176-1_amd64.deb ...\n",
            "Unpacking cuda-cudart-9-0 (9.0.176-1) ...\n",
            "Selecting previously unselected package cuda-cufft-9-0.\n",
            "Preparing to unpack .../03-cuda-cufft-9-0_9.0.176-1_amd64.deb ...\n",
            "Unpacking cuda-cufft-9-0 (9.0.176-1) ...\n",
            "Selecting previously unselected package cuda-curand-9-0.\n",
            "Preparing to unpack .../04-cuda-curand-9-0_9.0.176-1_amd64.deb ...\n",
            "Unpacking cuda-curand-9-0 (9.0.176-1) ...\n",
            "Selecting previously unselected package cuda-cusolver-9-0.\n",
            "Preparing to unpack .../05-cuda-cusolver-9-0_9.0.176-1_amd64.deb ...\n",
            "Unpacking cuda-cusolver-9-0 (9.0.176-1) ...\n",
            "Selecting previously unselected package cuda-cusparse-9-0.\n",
            "Preparing to unpack .../06-cuda-cusparse-9-0_9.0.176-1_amd64.deb ...\n",
            "Unpacking cuda-cusparse-9-0 (9.0.176-1) ...\n",
            "Selecting previously unselected package cuda-nvrtc-9-0.\n",
            "Preparing to unpack .../07-cuda-nvrtc-9-0_9.0.176-1_amd64.deb ...\n",
            "Unpacking cuda-nvrtc-9-0 (9.0.176-1) ...\n",
            "Selecting previously unselected package cuda-nvgraph-9-0.\n",
            "Preparing to unpack .../08-cuda-nvgraph-9-0_9.0.176-1_amd64.deb ...\n",
            "Unpacking cuda-nvgraph-9-0 (9.0.176-1) ...\n",
            "Selecting previously unselected package cuda-npp-9-0.\n",
            "Preparing to unpack .../09-cuda-npp-9-0_9.0.176-1_amd64.deb ...\n",
            "Unpacking cuda-npp-9-0 (9.0.176-1) ...\n",
            "Selecting previously unselected package cuda-libraries-9-0.\n",
            "Preparing to unpack .../10-cuda-libraries-9-0_9.0.176-1_amd64.deb ...\n",
            "Unpacking cuda-libraries-9-0 (9.0.176-1) ...\n",
            "Setting up cuda-license-9-0 (9.0.176-1) ...\n",
            "*** LICENSE AGREEMENT ***\n",
            "By using this software you agree to fully comply with the terms and \n",
            "conditions of the EULA (End User License Agreement). The EULA is located\n",
            "at /usr/local/cuda-9.0/doc/EULA.txt. The EULA can also be found at\n",
            "http://docs.nvidia.com/cuda/eula/index.html. If you do not agree to the\n",
            "terms and conditions of the EULA, do not use the software.\n",
            "\n",
            "Setting up cuda-cusparse-9-0 (9.0.176-1) ...\n",
            "Setting up cuda-cudart-9-0 (9.0.176-1) ...\n",
            "Setting up cuda-nvrtc-9-0 (9.0.176-1) ...\n",
            "Setting up cuda-cufft-9-0 (9.0.176-1) ...\n",
            "Setting up cuda-cusolver-9-0 (9.0.176-1) ...\n",
            "Setting up cuda-npp-9-0 (9.0.176-1) ...\n",
            "Setting up cuda-cublas-9-0 (9.0.176-1) ...\n",
            "Setting up cuda-curand-9-0 (9.0.176-1) ...\n",
            "Setting up cuda-nvgraph-9-0 (9.0.176-1) ...\n",
            "Setting up cuda-libraries-9-0 (9.0.176-1) ...\n",
            "Processing triggers for libc-bin (2.27-3ubuntu1) ...\n"
          ],
          "name": "stdout"
        }
      ]
    },
    {
      "metadata": {
        "id": "X95vR31-bG7e",
        "colab_type": "text"
      },
      "cell_type": "markdown",
      "source": [
        "## Clone wavegan, download unzip SC09 data"
      ]
    },
    {
      "metadata": {
        "id": "1l6XkLg7m7W7",
        "colab_type": "text"
      },
      "cell_type": "markdown",
      "source": [
        "One of the main points of this notebook book is to train a model without having the data beforehand. In the next cell, we clone the repository that contains the model, download the data we want to train on and unzip the files in place to its own folder."
      ]
    },
    {
      "metadata": {
        "id": "E128ey2gbaLR",
        "colab_type": "code",
        "outputId": "61046fd1-a119-443a-b282-3eb4ba36ac2a",
        "colab": {
          "base_uri": "https://localhost:8080/",
          "height": 311
        }
      },
      "cell_type": "code",
      "source": [
        "!git clone https://github.com/chrisdonahue/wavegan.git"
      ],
      "execution_count": 0,
      "outputs": [
        {
          "output_type": "stream",
          "text": [
            "Cloning into 'wavegan'...\n",
            "remote: Enumerating objects: 552, done.\u001b[K\n",
            "remote: Total 552 (delta 0), reused 0 (delta 0), pack-reused 552\u001b[K\n",
            "Receiving objects: 100% (552/552), 74.27 MiB | 26.19 MiB/s, done.\n",
            "Resolving deltas: 100% (325/325), done.\n",
            "--2019-04-02 23:25:42--  http://deepyeti.ucsd.edu/cdonahue/wavegan/data/sc09.tar.gz\n",
            "Resolving deepyeti.ucsd.edu (deepyeti.ucsd.edu)... 169.228.63.50\n",
            "Connecting to deepyeti.ucsd.edu (deepyeti.ucsd.edu)|169.228.63.50|:80... connected.\n",
            "HTTP request sent, awaiting response... 200 OK\n",
            "Length: 541227122 (516M) [application/octet-stream]\n",
            "Saving to: ‘sc09.tar.gz’\n",
            "\n",
            "sc09.tar.gz         100%[===================>] 516.15M  11.2MB/s    in 47s     \n",
            "\n",
            "2019-04-02 23:26:29 (11.0 MB/s) - ‘sc09.tar.gz’ saved [541227122/541227122]\n",
            "\n"
          ],
          "name": "stdout"
        }
      ]
    },
    {
      "metadata": {
        "id": "MUQFR14t1MP8",
        "colab_type": "code",
        "outputId": "86b0d628-3f52-44de-cb70-fa5d84872138",
        "colab": {
          "base_uri": "https://localhost:8080/",
          "height": 34
        }
      },
      "cell_type": "code",
      "source": [
        "#!wget http://deepyeti.ucsd.edu/cdonahue/wavegan/data/sc09.tar.gz #about 60 seconds\n",
        "#!tar -xzf /content/sc09.tar.gz #in /content\n",
        "!mkdir /content/bird2vec\n",
        "!mkdir /content/bird2vec/train\n",
        "\n",
        "!cp /content/gdrive/My\\ Drive/files/wav/bird2vec/train/* \\\n",
        "   /content/bird2vec/train/"
      ],
      "execution_count": 0,
      "outputs": [
        {
          "output_type": "stream",
          "text": [
            "cp: cannot stat '/content/gdrive/My Drive/files/wav/bird2vec/train/*': No such file or directory\n"
          ],
          "name": "stdout"
        }
      ]
    },
    {
      "metadata": {
        "id": "DomRZEFOnXWh",
        "colab_type": "text"
      },
      "cell_type": "markdown",
      "source": [
        "Before moving forward, we want to confirm that our cuda9 install is infact working. \n",
        "       - Note: At this point, the colab instance has both CUDA 9 and CUDA 10          installed. You can confirm this by opening the file explorer to the left. Following this path:\n",
        "        ('>', Files> [^],>usr>local)\n",
        "        The CUDA directories should be present. In any event, if CUDA 9 did not install properly, the next cell will throw an error."
      ]
    },
    {
      "metadata": {
        "id": "ddw7BRBsaEIh",
        "colab_type": "code",
        "outputId": "3f231e38-6169-4022-888e-61d06d75fdee",
        "colab": {
          "base_uri": "https://localhost:8080/",
          "height": 35
        }
      },
      "cell_type": "code",
      "source": [
        "# Confirm GPU is running\n",
        "from tensorflow.python.client import device_lib\n",
        "def get_available_gpus():\n",
        "    local_device_protos = device_lib.list_local_devices()\n",
        "    return [x.name for x in local_device_protos if x.device_type == 'GPU']\n",
        "if len(get_available_gpus()) == 0:\n",
        "    for i in range(4):\n",
        "        print('WARNING: Not running on a GPU! See above for faster generation')\n",
        "else:\n",
        "    print('Training on GPU')"
      ],
      "execution_count": 0,
      "outputs": [
        {
          "output_type": "stream",
          "text": [
            "Training on GPU\n"
          ],
          "name": "stdout"
        }
      ]
    },
    {
      "metadata": {
        "id": "znOn3HmMcm7k",
        "colab_type": "text"
      },
      "cell_type": "markdown",
      "source": [
        "### Start training"
      ]
    },
    {
      "metadata": {
        "id": "pNGy5MOBo9kT",
        "colab_type": "text"
      },
      "cell_type": "markdown",
      "source": [
        "In the next cell the code to train the model will be executed. A few things to note:\n",
        "        - The model is training directly from the '/content/' folder.\n",
        "        - The output of the model will be stored in the afore linked google drive at ''/content/gdrive/My Drive/wgtrain.\n",
        "        - The data is being read from '/content/SC09/train'\n",
        "        \n",
        "Since the data consists of small bits of audio, it is necessary to add additional flags:\n",
        "        - 'data_first_slice' to signal small clips\n",
        "        - 'data_fast_wav' to skip parsing with librosa and use scipy.\n",
        "        \n",
        "WARNING: If the data is a collection of MP3's do not use these flags\n",
        "        \n",
        " Other flags:\n",
        "        - 'wavegan_genr_pp' adds a post-processing filter to reduce noise\n",
        "        - 'wavegan_dim' decreases the model size (to allow for faster training)\n",
        "        - 'data_slice_rate' increase the length of the sample the model generates (16384 == 1 second, 65536 == 4 seconds)\n",
        "        - 'train_summary_secs' increase the gap between checkpoints\n",
        "        \n"
      ]
    },
    {
      "metadata": {
        "id": "kqcNkcIzcma3",
        "colab_type": "code",
        "outputId": "630e3ef1-6520-4c7c-8911-d027b38f7efb",
        "colab": {
          "base_uri": "https://localhost:8080/",
          "height": 929
        }
      },
      "cell_type": "code",
      "source": [
        "!export CUDA_VISIBLE_DEVICES=\"0\"\n",
        "!python /content/wavegan/train_wavegan.py train ./gdrive/My\\ Drive/wgtrain --data_dir /content/sc09/train/ --data_first_slice --data_fast_wav --data_slice_len 16384 --wavegan_dim 64 --wavegan_genr_pp --train_summary_secs 300"
      ],
      "execution_count": 0,
      "outputs": [
        {
          "output_type": "stream",
          "text": [
            "Found 18620 audio files in specified directory\n",
            "--------------------------------------------------------------------------------\n",
            "Generator vars\n",
            "[100, 16384] (1638400): G/z_project/dense/kernel:0\n",
            "[16384] (16384): G/z_project/dense/bias:0\n",
            "[1, 25, 512, 1024] (13107200): G/upconv_0/conv2d_transpose/kernel:0\n",
            "[512] (512): G/upconv_0/conv2d_transpose/bias:0\n",
            "[1, 25, 256, 512] (3276800): G/upconv_1/conv2d_transpose/kernel:0\n",
            "[256] (256): G/upconv_1/conv2d_transpose/bias:0\n",
            "[1, 25, 128, 256] (819200): G/upconv_2/conv2d_transpose/kernel:0\n",
            "[128] (128): G/upconv_2/conv2d_transpose/bias:0\n",
            "[1, 25, 64, 128] (204800): G/upconv_3/conv2d_transpose/kernel:0\n",
            "[64] (64): G/upconv_3/conv2d_transpose/bias:0\n",
            "[1, 25, 1, 64] (1600): G/upconv_4/conv2d_transpose/kernel:0\n",
            "[1] (1): G/upconv_4/conv2d_transpose/bias:0\n",
            "[512, 1, 1] (512): G/pp_filt/conv1d/kernel:0\n",
            "Total params: 19065857 (72.73 MB)\n",
            "--------------------------------------------------------------------------------\n",
            "Discriminator vars\n",
            "[25, 1, 64] (1600): D/downconv_0/conv1d/kernel:0\n",
            "[64] (64): D/downconv_0/conv1d/bias:0\n",
            "[25, 64, 128] (204800): D/downconv_1/conv1d/kernel:0\n",
            "[128] (128): D/downconv_1/conv1d/bias:0\n",
            "[25, 128, 256] (819200): D/downconv_2/conv1d/kernel:0\n",
            "[256] (256): D/downconv_2/conv1d/bias:0\n",
            "[25, 256, 512] (3276800): D/downconv_3/conv1d/kernel:0\n",
            "[512] (512): D/downconv_3/conv1d/bias:0\n",
            "[25, 512, 1024] (13107200): D/downconv_4/conv1d/kernel:0\n",
            "[1024] (1024): D/downconv_4/conv1d/bias:0\n",
            "[16384, 1] (16384): D/output/dense/kernel:0\n",
            "[1] (1): D/output/dense/bias:0\n",
            "Total params: 17427969 (66.48 MB)\n",
            "--------------------------------------------------------------------------------\n",
            "2019-04-03 00:13:42.312936: I tensorflow/core/platform/cpu_feature_guard.cc:141] Your CPU supports instructions that this TensorFlow binary was not compiled to use: AVX2 FMA\n",
            "2019-04-03 00:13:42.412028: I tensorflow/stream_executor/cuda/cuda_gpu_executor.cc:964] successful NUMA node read from SysFS had negative value (-1), but there must be at least one NUMA node, so returning NUMA node zero\n",
            "2019-04-03 00:13:42.412488: I tensorflow/core/common_runtime/gpu/gpu_device.cc:1432] Found device 0 with properties: \n",
            "name: Tesla K80 major: 3 minor: 7 memoryClockRate(GHz): 0.8235\n",
            "pciBusID: 0000:00:04.0\n",
            "totalMemory: 11.17GiB freeMemory: 11.00GiB\n",
            "2019-04-03 00:13:42.412529: I tensorflow/core/common_runtime/gpu/gpu_device.cc:1511] Adding visible gpu devices: 0\n",
            "2019-04-03 00:13:42.765477: I tensorflow/core/common_runtime/gpu/gpu_device.cc:982] Device interconnect StreamExecutor with strength 1 edge matrix:\n",
            "2019-04-03 00:13:42.765549: I tensorflow/core/common_runtime/gpu/gpu_device.cc:988]      0 \n",
            "2019-04-03 00:13:42.765569: I tensorflow/core/common_runtime/gpu/gpu_device.cc:1001] 0:   N \n",
            "2019-04-03 00:13:42.765860: W tensorflow/core/common_runtime/gpu/gpu_bfc_allocator.cc:42] Overriding allow_growth setting because the TF_FORCE_GPU_ALLOW_GROWTH environment variable is set. Original config value was 0.\n",
            "2019-04-03 00:13:42.765933: I tensorflow/core/common_runtime/gpu/gpu_device.cc:1115] Created TensorFlow device (/job:localhost/replica:0/task:0/device:GPU:0 with 10657 MB memory) -> physical GPU (device: 0, name: Tesla K80, pci bus id: 0000:00:04.0, compute capability: 3.7)\n",
            "--------------------------------------------------------------------------------\n",
            "Training has started. Please use 'tensorboard --logdir=./gdrive/My Drive/wgtrain' to monitor.\n"
          ],
          "name": "stdout"
        }
      ]
    },
    {
      "metadata": {
        "id": "Nkeqa-4gYg2y",
        "colab_type": "text"
      },
      "cell_type": "markdown",
      "source": [
        "The model is training. Please see the Tensorboard notebook for instructions on monitoring the training process"
      ]
    }
  ]
}