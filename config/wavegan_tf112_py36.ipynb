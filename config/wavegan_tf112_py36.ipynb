{
  "nbformat": 4,
  "nbformat_minor": 0,
  "metadata": {
    "colab": {
      "name": "wavegan_tf112_py36.ipynb",
      "version": "0.3.2",
      "provenance": [],
      "collapsed_sections": [],
      "toc_visible": true,
      "include_colab_link": true
    },
    "kernelspec": {
      "name": "python3",
      "display_name": "Python 3"
    },
    "accelerator": "GPU"
  },
  "cells": [
    {
      "cell_type": "markdown",
      "metadata": {
        "id": "view-in-github",
        "colab_type": "text"
      },
      "source": [
        "<a href=\"https://colab.research.google.com/github/mricos/bird2vec/blob/master/config/wavegan_tf112_py36.ipynb\" target=\"_parent\"><img src=\"https://colab.research.google.com/assets/colab-badge.svg\" alt=\"Open In Colab\"/></a>"
      ]
    },
    {
      "metadata": {
        "id": "P9KgLCisZDiK",
        "colab_type": "text"
      },
      "cell_type": "markdown",
      "source": [
        "## Training Wavegan with tensorflow 1.12.0 and python 3.6.7"
      ]
    },
    {
      "metadata": {
        "id": "t9QY5ZHbku0_",
        "colab_type": "text"
      },
      "cell_type": "markdown",
      "source": [
        "Official implementation of WaveGAN, a machine learning algorithm which learns to generate raw audio waveforms.\n",
        "\n",
        "https://github.com/chrisdonahue/wavegan/"
      ]
    },
    {
      "metadata": {
        "id": "Fpk572Oxl1Lj",
        "colab_type": "text"
      },
      "cell_type": "markdown",
      "source": [
        "@inproceedings {donahue2019wavegan,\n",
        "  title={Adversarial Audio Synthesis},\n",
        "  author={Donahue, Chris and McAuley, Julian and Puckette, Miller},\n",
        "  booktitle={ICLR},\n",
        "  year={2019}\n",
        "}"
      ]
    },
    {
      "metadata": {
        "id": "mPFPihWzi6eM",
        "colab_type": "text"
      },
      "cell_type": "markdown",
      "source": [
        "### Mount Google Drive\n",
        "  In this notebook we mount our google drive so that we can store the output of the model while it trains."
      ]
    },
    {
      "metadata": {
        "id": "2rbERPMvi4WG",
        "colab_type": "code",
        "outputId": "747b45d9-5513-4fa4-b3a1-a9748281e764",
        "colab": {
          "base_uri": "https://localhost:8080/",
          "height": 54
        }
      },
      "cell_type": "code",
      "source": [
        "from google.colab import drive\n",
        "drive.mount('/content/gdrive')"
      ],
      "execution_count": 5,
      "outputs": [
        {
          "output_type": "stream",
          "text": [
            "Drive already mounted at /content/gdrive; to attempt to forcibly remount, call drive.mount(\"/content/gdrive\", force_remount=True).\n"
          ],
          "name": "stdout"
        }
      ]
    },
    {
      "metadata": {
        "id": "KYT4xbRmZVdD",
        "colab_type": "text"
      },
      "cell_type": "markdown",
      "source": [
        "### Install recommended dependencies\n",
        "    pip install tensorflow-gpu==1.12.0\n",
        "    pip install scipy==1.0.0\n",
        "    pip install matplotlib==3.0.2\n",
        "    pip install librosa==0.6.2\n",
        "    \n",
        "    It's worth it to note that this code maybe compatible different versions of TensorFlow, however we follow the recommendations of the author."
      ]
    },
    {
      "metadata": {
        "id": "cfXki4mQZSjx",
        "colab_type": "code",
        "outputId": "eb7910be-6c11-4566-cf59-03f4d6cb9247",
        "colab": {
          "base_uri": "https://localhost:8080/",
          "height": 688
        }
      },
      "cell_type": "code",
      "source": [
        "!pip install tensorflow-gpu==1.12.0\n",
        "!pip install scipy==1.0.0\n",
        "!pip install matplotlib==3.0.2\n",
        "!pip install librosa==0.6.2"
      ],
      "execution_count": 6,
      "outputs": [
        {
          "output_type": "stream",
          "text": [
            "Requirement already satisfied: tensorflow-gpu==1.12.0 in /usr/local/lib/python3.6/dist-packages (1.12.0)\n",
            "Requirement already satisfied: tensorboard<1.13.0,>=1.12.0 in /usr/local/lib/python3.6/dist-packages (from tensorflow-gpu==1.12.0) (1.12.2)\n",
            "Requirement already satisfied: wheel>=0.26 in /usr/local/lib/python3.6/dist-packages (from tensorflow-gpu==1.12.0) (0.33.1)\n",
            "Requirement already satisfied: grpcio>=1.8.6 in /usr/local/lib/python3.6/dist-packages (from tensorflow-gpu==1.12.0) (1.15.0)\n",
            "Requirement already satisfied: protobuf>=3.6.1 in /usr/local/lib/python3.6/dist-packages (from tensorflow-gpu==1.12.0) (3.7.1)\n",
            "Requirement already satisfied: astor>=0.6.0 in /usr/local/lib/python3.6/dist-packages (from tensorflow-gpu==1.12.0) (0.7.1)\n",
            "Requirement already satisfied: termcolor>=1.1.0 in /usr/local/lib/python3.6/dist-packages (from tensorflow-gpu==1.12.0) (1.1.0)\n",
            "Requirement already satisfied: keras-preprocessing>=1.0.5 in /usr/local/lib/python3.6/dist-packages (from tensorflow-gpu==1.12.0) (1.0.9)\n",
            "Requirement already satisfied: gast>=0.2.0 in /usr/local/lib/python3.6/dist-packages (from tensorflow-gpu==1.12.0) (0.2.2)\n",
            "Requirement already satisfied: absl-py>=0.1.6 in /usr/local/lib/python3.6/dist-packages (from tensorflow-gpu==1.12.0) (0.7.1)\n",
            "Requirement already satisfied: numpy>=1.13.3 in /usr/local/lib/python3.6/dist-packages (from tensorflow-gpu==1.12.0) (1.16.3)\n",
            "Requirement already satisfied: keras-applications>=1.0.6 in /usr/local/lib/python3.6/dist-packages (from tensorflow-gpu==1.12.0) (1.0.7)\n",
            "Requirement already satisfied: six>=1.10.0 in /usr/local/lib/python3.6/dist-packages (from tensorflow-gpu==1.12.0) (1.12.0)\n",
            "Requirement already satisfied: werkzeug>=0.11.10 in /usr/local/lib/python3.6/dist-packages (from tensorboard<1.13.0,>=1.12.0->tensorflow-gpu==1.12.0) (0.15.2)\n",
            "Requirement already satisfied: markdown>=2.6.8 in /usr/local/lib/python3.6/dist-packages (from tensorboard<1.13.0,>=1.12.0->tensorflow-gpu==1.12.0) (3.1)\n",
            "Requirement already satisfied: setuptools in /usr/local/lib/python3.6/dist-packages (from protobuf>=3.6.1->tensorflow-gpu==1.12.0) (40.9.0)\n",
            "Requirement already satisfied: h5py in /usr/local/lib/python3.6/dist-packages (from keras-applications>=1.0.6->tensorflow-gpu==1.12.0) (2.8.0)\n",
            "Requirement already satisfied: scipy==1.0.0 in /usr/local/lib/python3.6/dist-packages (1.0.0)\n",
            "Requirement already satisfied: numpy>=1.8.2 in /usr/local/lib/python3.6/dist-packages (from scipy==1.0.0) (1.16.3)\n",
            "Requirement already satisfied: matplotlib==3.0.2 in /usr/local/lib/python3.6/dist-packages (3.0.2)\n",
            "Requirement already satisfied: kiwisolver>=1.0.1 in /usr/local/lib/python3.6/dist-packages (from matplotlib==3.0.2) (1.0.1)\n",
            "Requirement already satisfied: python-dateutil>=2.1 in /usr/local/lib/python3.6/dist-packages (from matplotlib==3.0.2) (2.5.3)\n",
            "Requirement already satisfied: pyparsing!=2.0.4,!=2.1.2,!=2.1.6,>=2.0.1 in /usr/local/lib/python3.6/dist-packages (from matplotlib==3.0.2) (2.4.0)\n",
            "Requirement already satisfied: cycler>=0.10 in /usr/local/lib/python3.6/dist-packages (from matplotlib==3.0.2) (0.10.0)\n",
            "Requirement already satisfied: numpy>=1.10.0 in /usr/local/lib/python3.6/dist-packages (from matplotlib==3.0.2) (1.16.3)\n",
            "Requirement already satisfied: setuptools in /usr/local/lib/python3.6/dist-packages (from kiwisolver>=1.0.1->matplotlib==3.0.2) (40.9.0)\n",
            "Requirement already satisfied: six>=1.5 in /usr/local/lib/python3.6/dist-packages (from python-dateutil>=2.1->matplotlib==3.0.2) (1.12.0)\n",
            "Requirement already satisfied: librosa==0.6.2 in /usr/local/lib/python3.6/dist-packages (0.6.2)\n",
            "Requirement already satisfied: audioread>=2.0.0 in /usr/local/lib/python3.6/dist-packages (from librosa==0.6.2) (2.1.6)\n",
            "Requirement already satisfied: numpy>=1.8.0 in /usr/local/lib/python3.6/dist-packages (from librosa==0.6.2) (1.16.3)\n",
            "Requirement already satisfied: resampy>=0.2.0 in /usr/local/lib/python3.6/dist-packages (from librosa==0.6.2) (0.2.1)\n",
            "Requirement already satisfied: decorator>=3.0.0 in /usr/local/lib/python3.6/dist-packages (from librosa==0.6.2) (4.4.0)\n",
            "Requirement already satisfied: scikit-learn!=0.19.0,>=0.14.0 in /usr/local/lib/python3.6/dist-packages (from librosa==0.6.2) (0.20.3)\n",
            "Requirement already satisfied: scipy>=0.14.0 in /usr/local/lib/python3.6/dist-packages (from librosa==0.6.2) (1.0.0)\n",
            "Requirement already satisfied: joblib>=0.12 in /usr/local/lib/python3.6/dist-packages (from librosa==0.6.2) (0.12.5)\n",
            "Requirement already satisfied: six>=1.3 in /usr/local/lib/python3.6/dist-packages (from librosa==0.6.2) (1.12.0)\n",
            "Requirement already satisfied: numba>=0.38.0 in /usr/local/lib/python3.6/dist-packages (from librosa==0.6.2) (0.40.1)\n",
            "Requirement already satisfied: llvmlite>=0.25.0dev0 in /usr/local/lib/python3.6/dist-packages (from numba>=0.38.0->librosa==0.6.2) (0.28.0)\n"
          ],
          "name": "stdout"
        }
      ]
    },
    {
      "metadata": {
        "id": "hwRsJOTZaXG7",
        "colab_type": "text"
      },
      "cell_type": "markdown",
      "source": [
        "## Install cuda9.0 for compatability"
      ]
    },
    {
      "metadata": {
        "id": "PaKTUsp7mrxa",
        "colab_type": "text"
      },
      "cell_type": "markdown",
      "source": [
        "Here we download the CUDA toolkit from the Nvidia site, unpack it, add an apt-key to install the CUDA 9 libraires"
      ]
    },
    {
      "metadata": {
        "id": "H32ssGQFaQqh",
        "colab_type": "code",
        "outputId": "30f53f03-7be3-49e8-b31f-008333f0a939",
        "colab": {
          "base_uri": "https://localhost:8080/",
          "height": 826
        }
      },
      "cell_type": "code",
      "source": [
        "!wget https://developer.nvidia.com/compute/cuda/9.0/Prod/local_installers/cuda-repo-ubuntu1604-9-0-local_9.0.176-1_amd64-deb\n",
        "!sudo dpkg -i /content/cuda-repo-ubuntu1604-9-0-local_9.0.176-1_amd64-deb\n",
        "!sudo apt-key add /var/cuda-repo-9-0-local/7fa2af80.pub\n",
        "print('add key: ok')\n",
        "!sudo apt-get update\n",
        "!sudo apt-get install cuda-libraries-9-0"
      ],
      "execution_count": 4,
      "outputs": [
        {
          "output_type": "stream",
          "text": [
            "--2019-04-25 23:57:29--  https://developer.nvidia.com/compute/cuda/9.0/Prod/local_installers/cuda-repo-ubuntu1604-9-0-local_9.0.176-1_amd64-deb\n",
            "Resolving developer.nvidia.com (developer.nvidia.com)... 192.229.162.216\n",
            "Connecting to developer.nvidia.com (developer.nvidia.com)|192.229.162.216|:443... connected.\n",
            "HTTP request sent, awaiting response... 302 Found\n",
            "Location: https://developer.download.nvidia.com/compute/cuda/9.0/secure/Prod/local_installers/cuda-repo-ubuntu1604-9-0-local_9.0.176-1_amd64.deb?1PoLcUgxTBMXhm6gUCDQcZiuzNhzzs2-l1vLgjYjdd8Zl844UfRye4DK8TQNb45B7SRhF0Y8avFqb2DF15i5Nzx8EcXr9K6x7vlvZvP_wqXsIx-sIVlo-U-azx3xD2Wv-kuOb7GrNWI8y2qQUyCgc3lL44w4yZNzdzeBbeHJEMzf5ckeBKo7ldT0_YH3x6RHRTukM4DRASSdtuHKxK1e [following]\n",
            "--2019-04-25 23:57:30--  https://developer.download.nvidia.com/compute/cuda/9.0/secure/Prod/local_installers/cuda-repo-ubuntu1604-9-0-local_9.0.176-1_amd64.deb?1PoLcUgxTBMXhm6gUCDQcZiuzNhzzs2-l1vLgjYjdd8Zl844UfRye4DK8TQNb45B7SRhF0Y8avFqb2DF15i5Nzx8EcXr9K6x7vlvZvP_wqXsIx-sIVlo-U-azx3xD2Wv-kuOb7GrNWI8y2qQUyCgc3lL44w4yZNzdzeBbeHJEMzf5ckeBKo7ldT0_YH3x6RHRTukM4DRASSdtuHKxK1e\n",
            "Resolving developer.download.nvidia.com (developer.download.nvidia.com)... 192.229.211.70, 2606:2800:21f:3aa:dcf:37b:1ed6:1fb\n",
            "Connecting to developer.download.nvidia.com (developer.download.nvidia.com)|192.229.211.70|:443... connected.\n",
            "HTTP request sent, awaiting response... 200 OK\n",
            "Length: 1212738714 (1.1G) [application/x-deb]\n",
            "Saving to: ‘cuda-repo-ubuntu1604-9-0-local_9.0.176-1_amd64-deb.1’\n",
            "\n",
            "cuda-repo-ubuntu160 100%[===================>]   1.13G   144MB/s    in 7.6s    \n",
            "\n",
            "2019-04-25 23:57:37 (152 MB/s) - ‘cuda-repo-ubuntu1604-9-0-local_9.0.176-1_amd64-deb.1’ saved [1212738714/1212738714]\n",
            "\n",
            "(Reading database ... 131456 files and directories currently installed.)\n",
            "Preparing to unpack .../cuda-repo-ubuntu1604-9-0-local_9.0.176-1_amd64-deb ...\n",
            "Unpacking cuda-repo-ubuntu1604-9-0-local (9.0.176-1) over (9.0.176-1) ...\n",
            "Setting up cuda-repo-ubuntu1604-9-0-local (9.0.176-1) ...\n",
            "OK\n",
            "add key: ok\n",
            "Get:1 file:/var/cuda-repo-9-0-local  InRelease\n",
            "Ign:1 file:/var/cuda-repo-9-0-local  InRelease\n",
            "Get:2 file:/var/cuda-repo-9-0-local  Release [574 B]\n",
            "Get:2 file:/var/cuda-repo-9-0-local  Release [574 B]\n",
            "Hit:4 http://security.ubuntu.com/ubuntu bionic-security InRelease\n",
            "Ign:5 https://developer.download.nvidia.com/compute/cuda/repos/ubuntu1804/x86_64  InRelease\n",
            "Hit:6 https://cloud.r-project.org/bin/linux/ubuntu bionic-cran35/ InRelease\n",
            "Hit:7 http://ppa.launchpad.net/graphics-drivers/ppa/ubuntu bionic InRelease\n",
            "Ign:8 https://developer.download.nvidia.com/compute/machine-learning/repos/ubuntu1804/x86_64  InRelease\n",
            "Hit:9 https://developer.download.nvidia.com/compute/cuda/repos/ubuntu1804/x86_64  Release\n",
            "Hit:10 https://developer.download.nvidia.com/compute/machine-learning/repos/ubuntu1804/x86_64  Release\n",
            "Hit:11 http://archive.ubuntu.com/ubuntu bionic InRelease\n",
            "Hit:12 http://archive.ubuntu.com/ubuntu bionic-updates InRelease\n",
            "Hit:13 http://ppa.launchpad.net/marutter/c2d4u3.5/ubuntu bionic InRelease\n",
            "Hit:14 http://archive.ubuntu.com/ubuntu bionic-backports InRelease\n",
            "Reading package lists... Done\n",
            "Reading package lists... Done\n",
            "Building dependency tree       \n",
            "Reading state information... Done\n",
            "cuda-libraries-9-0 is already the newest version (9.0.176-1).\n",
            "The following package was automatically installed and is no longer required:\n",
            "  libnvidia-common-410\n",
            "Use 'sudo apt autoremove' to remove it.\n",
            "0 upgraded, 0 newly installed, 0 to remove and 46 not upgraded.\n"
          ],
          "name": "stdout"
        }
      ]
    },
    {
      "metadata": {
        "id": "X95vR31-bG7e",
        "colab_type": "text"
      },
      "cell_type": "markdown",
      "source": [
        "## Clone wavegan, download unzip SC09 data"
      ]
    },
    {
      "metadata": {
        "id": "1l6XkLg7m7W7",
        "colab_type": "text"
      },
      "cell_type": "markdown",
      "source": [
        "One of the main points of this notebook book is to train a model without having the data beforehand. In the next cell, we clone the repository that contains the model, download the data we want to train on and unzip the files in place to its own folder."
      ]
    },
    {
      "metadata": {
        "id": "E128ey2gbaLR",
        "colab_type": "code",
        "outputId": "b43ff5bd-d10f-4408-e9db-23c655bec049",
        "colab": {
          "base_uri": "https://localhost:8080/",
          "height": 103
        }
      },
      "cell_type": "code",
      "source": [
        "!git clone https://github.com/chrisdonahue/wavegan.git"
      ],
      "execution_count": 7,
      "outputs": [
        {
          "output_type": "stream",
          "text": [
            "Cloning into 'wavegan'...\n",
            "remote: Enumerating objects: 552, done.\u001b[K\n",
            "remote: Total 552 (delta 0), reused 0 (delta 0), pack-reused 552\u001b[K\n",
            "Receiving objects: 100% (552/552), 74.27 MiB | 43.68 MiB/s, done.\n",
            "Resolving deltas: 100% (325/325), done.\n"
          ],
          "name": "stdout"
        }
      ]
    },
    {
      "metadata": {
        "id": "MUQFR14t1MP8",
        "colab_type": "code",
        "colab": {}
      },
      "cell_type": "code",
      "source": [
        "#!wget http://deepyeti.ucsd.edu/cdonahue/wavegan/data/sc09.tar.gz #about 60 seconds\n",
        "#!tar -xzf /content/sc09.tar.gz #in /content\n",
        "!rm -rf /content/bird2vec\n",
        "!mkdir /content/bird2vec\n",
        "!mkdir /content/bird2vec/train\n",
        "\n",
        "!cp /content/gdrive/My\\ Drive/from-nire/* \\\n",
        "   /content/bird2vec/train/"
      ],
      "execution_count": 0,
      "outputs": []
    },
    {
      "metadata": {
        "id": "DomRZEFOnXWh",
        "colab_type": "text"
      },
      "cell_type": "markdown",
      "source": [
        "Before moving forward, we want to confirm that our cuda9 install is infact working. \n",
        "       - Note: At this point, the colab instance has both CUDA 9 and CUDA 10          installed. You can confirm this by opening the file explorer to the left. Following this path:\n",
        "        ('>', Files> [^],>usr>local)\n",
        "        The CUDA directories should be present. In any event, if CUDA 9 did not install properly, the next cell will throw an error."
      ]
    },
    {
      "metadata": {
        "id": "ddw7BRBsaEIh",
        "colab_type": "code",
        "outputId": "22ca1d10-914f-46be-9a8b-98aadd060531",
        "colab": {
          "base_uri": "https://localhost:8080/",
          "height": 34
        }
      },
      "cell_type": "code",
      "source": [
        "# Confirm GPU is running\n",
        "from tensorflow.python.client import device_lib\n",
        "def get_available_gpus():\n",
        "    local_device_protos = device_lib.list_local_devices()\n",
        "    return [x.name for x in local_device_protos if x.device_type == 'GPU']\n",
        "if len(get_available_gpus()) == 0:\n",
        "    for i in range(4):\n",
        "        print('WARNING: Not running on a GPU! See above for faster generation')\n",
        "else:\n",
        "    print('Training on GPU')"
      ],
      "execution_count": 9,
      "outputs": [
        {
          "output_type": "stream",
          "text": [
            "Training on GPU\n"
          ],
          "name": "stdout"
        }
      ]
    },
    {
      "metadata": {
        "id": "znOn3HmMcm7k",
        "colab_type": "text"
      },
      "cell_type": "markdown",
      "source": [
        "### Start training"
      ]
    },
    {
      "metadata": {
        "id": "pNGy5MOBo9kT",
        "colab_type": "text"
      },
      "cell_type": "markdown",
      "source": [
        "In the next cell the code to train the model will be executed. A few things to note:\n",
        "        - The model is training directly from the '/content/' folder.\n",
        "        - The output of the model will be stored in the afore linked google drive at ''/content/gdrive/My Drive/wgtrain.\n",
        "        - The data is being read from '/content/SC09/train'\n",
        "        \n",
        "Since the data consists of small bits of audio, it is necessary to add additional flags:\n",
        "        - 'data_first_slice' to signal small clips\n",
        "        - 'data_fast_wav' to skip parsing with librosa and use scipy.\n",
        "        \n",
        "WARNING: If the data is a collection of MP3's do not use these flags\n",
        "        \n",
        " Other flags:\n",
        "        - 'wavegan_genr_pp' adds a post-processing filter to reduce noise\n",
        "        - 'wavegan_dim' decreases the model size (to allow for faster training)\n",
        "        - 'data_slice_rate' increase the length of the sample the model generates (16384 == 1 second, 65536 == 4 seconds)\n",
        "        - 'train_summary_secs' increase the gap between checkpoints\n",
        "        \n"
      ]
    },
    {
      "metadata": {
        "id": "kqcNkcIzcma3",
        "colab_type": "code",
        "outputId": "630e3ef1-6520-4c7c-8911-d027b38f7efb",
        "colab": {
          "base_uri": "https://localhost:8080/",
          "height": 929
        }
      },
      "cell_type": "code",
      "source": [
        "!export CUDA_VISIBLE_DEVICES=\"0\"\n",
        "!python /content/wavegan/train_wavegan.py \\\n",
        "train \\\n",
        "/content/gdrive/My\\ Drive/wgtrain-stream-kauai-6-2sec \\\n",
        "--data_dir /content/gdrive/My\\ Drive/from-nire \\\n",
        "--data_fast_wav \n",
        "--data_slice_len 32768 \\\n",
        "--data_overlap_ratio 0.5 \\\n",
        "--data_pad_end \\\n",
        "--wavegan_dim 64 \\\n",
        "--wavegan_genr_pp \\\n",
        "--train_summary_secs 120"
      ],
      "execution_count": 0,
      "outputs": [
        {
          "output_type": "stream",
          "text": [
            "Found 18620 audio files in specified directory\n",
            "--------------------------------------------------------------------------------\n",
            "Generator vars\n",
            "[100, 16384] (1638400): G/z_project/dense/kernel:0\n",
            "[16384] (16384): G/z_project/dense/bias:0\n",
            "[1, 25, 512, 1024] (13107200): G/upconv_0/conv2d_transpose/kernel:0\n",
            "[512] (512): G/upconv_0/conv2d_transpose/bias:0\n",
            "[1, 25, 256, 512] (3276800): G/upconv_1/conv2d_transpose/kernel:0\n",
            "[256] (256): G/upconv_1/conv2d_transpose/bias:0\n",
            "[1, 25, 128, 256] (819200): G/upconv_2/conv2d_transpose/kernel:0\n",
            "[128] (128): G/upconv_2/conv2d_transpose/bias:0\n",
            "[1, 25, 64, 128] (204800): G/upconv_3/conv2d_transpose/kernel:0\n",
            "[64] (64): G/upconv_3/conv2d_transpose/bias:0\n",
            "[1, 25, 1, 64] (1600): G/upconv_4/conv2d_transpose/kernel:0\n",
            "[1] (1): G/upconv_4/conv2d_transpose/bias:0\n",
            "[512, 1, 1] (512): G/pp_filt/conv1d/kernel:0\n",
            "Total params: 19065857 (72.73 MB)\n",
            "--------------------------------------------------------------------------------\n",
            "Discriminator vars\n",
            "[25, 1, 64] (1600): D/downconv_0/conv1d/kernel:0\n",
            "[64] (64): D/downconv_0/conv1d/bias:0\n",
            "[25, 64, 128] (204800): D/downconv_1/conv1d/kernel:0\n",
            "[128] (128): D/downconv_1/conv1d/bias:0\n",
            "[25, 128, 256] (819200): D/downconv_2/conv1d/kernel:0\n",
            "[256] (256): D/downconv_2/conv1d/bias:0\n",
            "[25, 256, 512] (3276800): D/downconv_3/conv1d/kernel:0\n",
            "[512] (512): D/downconv_3/conv1d/bias:0\n",
            "[25, 512, 1024] (13107200): D/downconv_4/conv1d/kernel:0\n",
            "[1024] (1024): D/downconv_4/conv1d/bias:0\n",
            "[16384, 1] (16384): D/output/dense/kernel:0\n",
            "[1] (1): D/output/dense/bias:0\n",
            "Total params: 17427969 (66.48 MB)\n",
            "--------------------------------------------------------------------------------\n",
            "2019-04-03 00:13:42.312936: I tensorflow/core/platform/cpu_feature_guard.cc:141] Your CPU supports instructions that this TensorFlow binary was not compiled to use: AVX2 FMA\n",
            "2019-04-03 00:13:42.412028: I tensorflow/stream_executor/cuda/cuda_gpu_executor.cc:964] successful NUMA node read from SysFS had negative value (-1), but there must be at least one NUMA node, so returning NUMA node zero\n",
            "2019-04-03 00:13:42.412488: I tensorflow/core/common_runtime/gpu/gpu_device.cc:1432] Found device 0 with properties: \n",
            "name: Tesla K80 major: 3 minor: 7 memoryClockRate(GHz): 0.8235\n",
            "pciBusID: 0000:00:04.0\n",
            "totalMemory: 11.17GiB freeMemory: 11.00GiB\n",
            "2019-04-03 00:13:42.412529: I tensorflow/core/common_runtime/gpu/gpu_device.cc:1511] Adding visible gpu devices: 0\n",
            "2019-04-03 00:13:42.765477: I tensorflow/core/common_runtime/gpu/gpu_device.cc:982] Device interconnect StreamExecutor with strength 1 edge matrix:\n",
            "2019-04-03 00:13:42.765549: I tensorflow/core/common_runtime/gpu/gpu_device.cc:988]      0 \n",
            "2019-04-03 00:13:42.765569: I tensorflow/core/common_runtime/gpu/gpu_device.cc:1001] 0:   N \n",
            "2019-04-03 00:13:42.765860: W tensorflow/core/common_runtime/gpu/gpu_bfc_allocator.cc:42] Overriding allow_growth setting because the TF_FORCE_GPU_ALLOW_GROWTH environment variable is set. Original config value was 0.\n",
            "2019-04-03 00:13:42.765933: I tensorflow/core/common_runtime/gpu/gpu_device.cc:1115] Created TensorFlow device (/job:localhost/replica:0/task:0/device:GPU:0 with 10657 MB memory) -> physical GPU (device: 0, name: Tesla K80, pci bus id: 0000:00:04.0, compute capability: 3.7)\n",
            "--------------------------------------------------------------------------------\n",
            "Training has started. Please use 'tensorboard --logdir=./gdrive/My Drive/wgtrain' to monitor.\n"
          ],
          "name": "stdout"
        }
      ]
    },
    {
      "metadata": {
        "id": "Nkeqa-4gYg2y",
        "colab_type": "text"
      },
      "cell_type": "markdown",
      "source": [
        "The model is training. Please see the Tensorboard notebook for instructions on monitoring the training process"
      ]
    }
  ]
}